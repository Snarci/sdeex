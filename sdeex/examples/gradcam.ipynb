{
 "cells": [
  {
   "cell_type": "code",
   "execution_count": 1,
   "metadata": {},
   "outputs": [
    {
     "name": "stderr",
     "output_type": "stream",
     "text": [
      "c:\\Users\\lucat\\AppData\\Local\\Programs\\Python\\Python39\\lib\\site-packages\\torch\\onnx\\_internal\\_beartype.py:35: UserWarning: unhashable type: 'list'\n",
      "  warnings.warn(f\"{e}\")\n"
     ]
    }
   ],
   "source": [
    "from pytorch_grad_cam import GradCAM, HiResCAM, ScoreCAM, GradCAMPlusPlus, AblationCAM, XGradCAM, EigenCAM, FullGrad\n",
    "from pytorch_grad_cam.utils.model_targets import ClassifierOutputTarget\n",
    "from pytorch_grad_cam.utils.image import show_cam_on_image\n",
    "from vit_meta import vit_small\n",
    "from torchvision.transforms import v2\n",
    "from PIL import Image\n",
    "import torch\n",
    "import numpy as np\n",
    "\n",
    "\n"
   ]
  },
  {
   "cell_type": "code",
   "execution_count": 2,
   "metadata": {},
   "outputs": [],
   "source": [
    "DEFAULT_MEAN = (0.485, 0.456, 0.406)\n",
    "DEFAULT_STD = (0.229, 0.224, 0.225)\n",
    "transform = v2.Compose([\n",
    "    v2.ToImage(), \n",
    "    v2.Resize((224, 224)),\n",
    "    v2.ToDtype(torch.float32, scale=True),\n",
    "    v2.Normalize(mean=DEFAULT_MEAN, std=DEFAULT_STD)])"
   ]
  },
  {
   "cell_type": "code",
   "execution_count": 3,
   "metadata": {},
   "outputs": [
    {
     "name": "stdout",
     "output_type": "stream",
     "text": [
      "torch.Size([1, 3, 224, 224])\n",
      "150528\n"
     ]
    }
   ],
   "source": [
    "image_path= 'C:/Users/lucat/Documents/MEDMINST/data_split/breastmnist_224/test/1/test2_1.png'\n",
    "image = Image.open(image_path)\n",
    "rgb_img = image.convert('RGB')\n",
    "#The input image should np.float32 in the range [0, 1]\n",
    "rgb_img =  np.array(rgb_img) / 255.0\n",
    "tensor = transform(image).unsqueeze(0)\n",
    "print(tensor.shape)\n",
    "print(rgb_img.size)\n"
   ]
  },
  {
   "cell_type": "code",
   "execution_count": 4,
   "metadata": {},
   "outputs": [
    {
     "name": "stdout",
     "output_type": "stream",
     "text": [
      "LayerNorm((384,), eps=1e-06, elementwise_affine=True)\n"
     ]
    }
   ],
   "source": [
    "model= vit_small()\n",
    "wp = 'F:/sdeex/sdeex/configs/dino_radio/trained_models3/breastmnist/dino_vits16/best.pth'\n",
    "state_dict = torch.load(wp, map_location=\"cpu\")\n",
    "model.load_state_dict(state_dict, strict=False)\n",
    "print(model.blocks[-1].norm1)\n",
    "target_layers = [model.blocks[-1].norm1]\n"
   ]
  },
  {
   "cell_type": "code",
   "execution_count": 5,
   "metadata": {},
   "outputs": [
    {
     "name": "stdout",
     "output_type": "stream",
     "text": [
      "None\n",
      "torch.Size([1, 3, 224, 224])\n",
      "(1, 197, 384)\n",
      "An exception occurred in CAM with block: <class 'numpy.exceptions.AxisError'>. Message: axis 3 is out of bounds for array of dimension 3\n"
     ]
    }
   ],
   "source": [
    "\n",
    "# We have to specify the target we want to generate the CAM for.\n",
    "targets = None\n",
    "print(targets)\n",
    "# Construct the CAM object once, and then re-use it on many images.\n",
    "with GradCAM(model=model, target_layers=target_layers) as cam:\n",
    "  # You can also pass aug_smooth=True and eigen_smooth=True, to apply smoothing.\n",
    "  print(tensor.shape)\n",
    "  grayscale_cam = cam(input_tensor=tensor, targets=targets)\n",
    "  print(grayscale_cam.shape)\n",
    "  # In this example grayscale_cam has only one image in the batch:\n",
    "  grayscale_cam = grayscale_cam[0, :]\n",
    "  print(grayscale_cam.shape)\n",
    "  visualization = show_cam_on_image(rgb_img, grayscale_cam, use_rgb=True)\n",
    "  \n",
    "  # You can also get the model outputs without having to redo inference\n"
   ]
  },
  {
   "cell_type": "code",
   "execution_count": 6,
   "metadata": {},
   "outputs": [
    {
     "ename": "NameError",
     "evalue": "name 'visualization' is not defined",
     "output_type": "error",
     "traceback": [
      "\u001b[1;31m---------------------------------------------------------------------------\u001b[0m",
      "\u001b[1;31mNameError\u001b[0m                                 Traceback (most recent call last)",
      "Cell \u001b[1;32mIn[6], line 3\u001b[0m\n\u001b[0;32m      1\u001b[0m \u001b[38;5;66;03m#plotting\u001b[39;00m\n\u001b[0;32m      2\u001b[0m \u001b[38;5;28;01mimport\u001b[39;00m \u001b[38;5;21;01mmatplotlib\u001b[39;00m\u001b[38;5;21;01m.\u001b[39;00m\u001b[38;5;21;01mpyplot\u001b[39;00m \u001b[38;5;28;01mas\u001b[39;00m \u001b[38;5;21;01mplt\u001b[39;00m\n\u001b[1;32m----> 3\u001b[0m plt\u001b[38;5;241m.\u001b[39mimshow(\u001b[43mvisualization\u001b[49m)\n\u001b[0;32m      4\u001b[0m plt\u001b[38;5;241m.\u001b[39mshow()\n",
      "\u001b[1;31mNameError\u001b[0m: name 'visualization' is not defined"
     ]
    }
   ],
   "source": [
    "#plotting\n",
    "import matplotlib.pyplot as plt\n",
    "plt.imshow(visualization)\n",
    "plt.show()\n"
   ]
  }
 ],
 "metadata": {
  "kernelspec": {
   "display_name": "Python 3",
   "language": "python",
   "name": "python3"
  },
  "language_info": {
   "codemirror_mode": {
    "name": "ipython",
    "version": 3
   },
   "file_extension": ".py",
   "mimetype": "text/x-python",
   "name": "python",
   "nbconvert_exporter": "python",
   "pygments_lexer": "ipython3",
   "version": "3.9.0"
  }
 },
 "nbformat": 4,
 "nbformat_minor": 2
}
